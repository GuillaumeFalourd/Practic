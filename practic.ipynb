{
 "cells": [
  {
   "cell_type": "code",
   "execution_count": 44,
   "metadata": {},
   "outputs": [
    {
     "data": {
      "text/html": [
       "<img src=\"https://scikit-learn.org/stable/_images/sphx_glr_plot_svm_kernels_001.png\"/>"
      ],
      "text/plain": [
       "<IPython.core.display.Image object>"
      ]
     },
     "execution_count": 44,
     "metadata": {},
     "output_type": "execute_result"
    }
   ],
   "source": [
    "import random\n",
    "from IPython.display import Image\n",
    "urls=[\"https://scikit-learn.org/stable/_images/sphx_glr_plot_iris_dataset_001.png\",\"https://scikit-learn.org/stable/_images/sphx_glr_plot_classification_001.png\", \"https://scikit-learn.org/stable/_images/sphx_glr_plot_ols_001.png\", \"https://scikit-learn.org/stable/_images/sphx_glr_plot_ols_ridge_variance_001.png\", \"https://scikit-learn.org/stable/_images/sphx_glr_plot_ols_ridge_variance_002.png\", \"https://scikit-learn.org/stable/_images/sphx_glr_plot_ols_3d_001.png\", \"https://scikit-learn.org/stable/_images/sphx_glr_plot_ols_3d_003.png\", \"https://scikit-learn.org/stable/_images/sphx_glr_plot_ols_3d_002.png\", \"https://scikit-learn.org/stable/_images/sphx_glr_plot_logistic_001.png\", \"https://scikit-learn.org/stable/_images/sphx_glr_plot_iris_logistic_001.png\", \"https://scikit-learn.org/stable/_images/sphx_glr_plot_svm_margin_001.png\", \"https://scikit-learn.org/stable/_images/sphx_glr_plot_svm_margin_002.png\", \"https://scikit-learn.org/stable/_images/sphx_glr_plot_svm_kernels_001.png\", \"https://scikit-learn.org/stable/_images/sphx_glr_plot_svm_kernels_002.png\", \"https://scikit-learn.org/stable/_images/sphx_glr_plot_svm_kernels_003.png\", \"https://scikit-learn.org/stable/_images/sphx_glr_plot_iris_dataset_001.png\"]\n",
    "Image(url= urls[random.randint(0,15)])"
   ]
  }
 ],
 "metadata": {
  "kernelspec": {
   "display_name": "Python 3.10.0 64-bit",
   "language": "python",
   "name": "python3"
  },
  "language_info": {
   "codemirror_mode": {
    "name": "ipython",
    "version": 3
   },
   "file_extension": ".py",
   "mimetype": "text/x-python",
   "name": "python",
   "nbconvert_exporter": "python",
   "pygments_lexer": "ipython3",
   "version": "3.10.0"
  },
  "orig_nbformat": 4,
  "vscode": {
   "interpreter": {
    "hash": "58afad33eb8dea67ba0a6ebbe48079544fd3fb0cb84c4829899c3a7f927e594e"
   }
  }
 },
 "nbformat": 4,
 "nbformat_minor": 2
}
